{
 "cells": [
  {
   "cell_type": "markdown",
   "metadata": {},
   "source": [
    "# HIPÓTESIS: En qué pais es menos arriesgado salir de pesca"
   ]
  },
  {
   "cell_type": "markdown",
   "metadata": {},
   "source": [
    "##### Importo bibliotecas y el archivo csv"
   ]
  },
  {
   "cell_type": "code",
   "execution_count": 193,
   "metadata": {},
   "outputs": [
    {
     "data": {
      "text/html": [
       "<div>\n",
       "<style scoped>\n",
       "    .dataframe tbody tr th:only-of-type {\n",
       "        vertical-align: middle;\n",
       "    }\n",
       "\n",
       "    .dataframe tbody tr th {\n",
       "        vertical-align: top;\n",
       "    }\n",
       "\n",
       "    .dataframe thead th {\n",
       "        text-align: right;\n",
       "    }\n",
       "</style>\n",
       "<table border=\"1\" class=\"dataframe\">\n",
       "  <thead>\n",
       "    <tr style=\"text-align: right;\">\n",
       "      <th></th>\n",
       "      <th>Case Number</th>\n",
       "      <th>Date</th>\n",
       "      <th>Year</th>\n",
       "      <th>Type</th>\n",
       "      <th>Country</th>\n",
       "      <th>Area</th>\n",
       "      <th>Location</th>\n",
       "      <th>Activity</th>\n",
       "      <th>Name</th>\n",
       "      <th>Sex</th>\n",
       "      <th>...</th>\n",
       "      <th>Species</th>\n",
       "      <th>Investigator or Source</th>\n",
       "      <th>pdf</th>\n",
       "      <th>href formula</th>\n",
       "      <th>href</th>\n",
       "      <th>Case Number.1</th>\n",
       "      <th>Case Number.2</th>\n",
       "      <th>original order</th>\n",
       "      <th>Unnamed: 22</th>\n",
       "      <th>Unnamed: 23</th>\n",
       "    </tr>\n",
       "  </thead>\n",
       "  <tbody>\n",
       "    <tr>\n",
       "      <th>0</th>\n",
       "      <td>2018.06.25</td>\n",
       "      <td>25-Jun-2018</td>\n",
       "      <td>2018.0</td>\n",
       "      <td>Boating</td>\n",
       "      <td>USA</td>\n",
       "      <td>California</td>\n",
       "      <td>Oceanside, San Diego County</td>\n",
       "      <td>Paddling</td>\n",
       "      <td>Julie Wolfe</td>\n",
       "      <td>F</td>\n",
       "      <td>...</td>\n",
       "      <td>White shark</td>\n",
       "      <td>R. Collier, GSAF</td>\n",
       "      <td>2018.06.25-Wolfe.pdf</td>\n",
       "      <td>http://sharkattackfile.net/spreadsheets/pdf_di...</td>\n",
       "      <td>http://sharkattackfile.net/spreadsheets/pdf_di...</td>\n",
       "      <td>2018.06.25</td>\n",
       "      <td>2018.06.25</td>\n",
       "      <td>6303.0</td>\n",
       "      <td>NaN</td>\n",
       "      <td>NaN</td>\n",
       "    </tr>\n",
       "    <tr>\n",
       "      <th>1</th>\n",
       "      <td>2018.06.18</td>\n",
       "      <td>18-Jun-2018</td>\n",
       "      <td>2018.0</td>\n",
       "      <td>Unprovoked</td>\n",
       "      <td>USA</td>\n",
       "      <td>Georgia</td>\n",
       "      <td>St. Simon Island, Glynn County</td>\n",
       "      <td>Standing</td>\n",
       "      <td>Adyson McNeely</td>\n",
       "      <td>F</td>\n",
       "      <td>...</td>\n",
       "      <td>NaN</td>\n",
       "      <td>K.McMurray, TrackingSharks.com</td>\n",
       "      <td>2018.06.18-McNeely.pdf</td>\n",
       "      <td>http://sharkattackfile.net/spreadsheets/pdf_di...</td>\n",
       "      <td>http://sharkattackfile.net/spreadsheets/pdf_di...</td>\n",
       "      <td>2018.06.18</td>\n",
       "      <td>2018.06.18</td>\n",
       "      <td>6302.0</td>\n",
       "      <td>NaN</td>\n",
       "      <td>NaN</td>\n",
       "    </tr>\n",
       "    <tr>\n",
       "      <th>2</th>\n",
       "      <td>2018.06.09</td>\n",
       "      <td>09-Jun-2018</td>\n",
       "      <td>2018.0</td>\n",
       "      <td>Invalid</td>\n",
       "      <td>USA</td>\n",
       "      <td>Hawaii</td>\n",
       "      <td>Habush, Oahu</td>\n",
       "      <td>Surfing</td>\n",
       "      <td>John Denges</td>\n",
       "      <td>M</td>\n",
       "      <td>...</td>\n",
       "      <td>NaN</td>\n",
       "      <td>K.McMurray, TrackingSharks.com</td>\n",
       "      <td>2018.06.09-Denges.pdf</td>\n",
       "      <td>http://sharkattackfile.net/spreadsheets/pdf_di...</td>\n",
       "      <td>http://sharkattackfile.net/spreadsheets/pdf_di...</td>\n",
       "      <td>2018.06.09</td>\n",
       "      <td>2018.06.09</td>\n",
       "      <td>6301.0</td>\n",
       "      <td>NaN</td>\n",
       "      <td>NaN</td>\n",
       "    </tr>\n",
       "    <tr>\n",
       "      <th>3</th>\n",
       "      <td>2018.06.08</td>\n",
       "      <td>08-Jun-2018</td>\n",
       "      <td>2018.0</td>\n",
       "      <td>Unprovoked</td>\n",
       "      <td>AUSTRALIA</td>\n",
       "      <td>New South Wales</td>\n",
       "      <td>Arrawarra Headland</td>\n",
       "      <td>Surfing</td>\n",
       "      <td>male</td>\n",
       "      <td>M</td>\n",
       "      <td>...</td>\n",
       "      <td>2 m shark</td>\n",
       "      <td>B. Myatt, GSAF</td>\n",
       "      <td>2018.06.08-Arrawarra.pdf</td>\n",
       "      <td>http://sharkattackfile.net/spreadsheets/pdf_di...</td>\n",
       "      <td>http://sharkattackfile.net/spreadsheets/pdf_di...</td>\n",
       "      <td>2018.06.08</td>\n",
       "      <td>2018.06.08</td>\n",
       "      <td>6300.0</td>\n",
       "      <td>NaN</td>\n",
       "      <td>NaN</td>\n",
       "    </tr>\n",
       "    <tr>\n",
       "      <th>4</th>\n",
       "      <td>2018.06.04</td>\n",
       "      <td>04-Jun-2018</td>\n",
       "      <td>2018.0</td>\n",
       "      <td>Provoked</td>\n",
       "      <td>MEXICO</td>\n",
       "      <td>Colima</td>\n",
       "      <td>La Ticla</td>\n",
       "      <td>Free diving</td>\n",
       "      <td>Gustavo Ramos</td>\n",
       "      <td>M</td>\n",
       "      <td>...</td>\n",
       "      <td>Tiger shark, 3m</td>\n",
       "      <td>A .Kipper</td>\n",
       "      <td>2018.06.04-Ramos.pdf</td>\n",
       "      <td>http://sharkattackfile.net/spreadsheets/pdf_di...</td>\n",
       "      <td>http://sharkattackfile.net/spreadsheets/pdf_di...</td>\n",
       "      <td>2018.06.04</td>\n",
       "      <td>2018.06.04</td>\n",
       "      <td>6299.0</td>\n",
       "      <td>NaN</td>\n",
       "      <td>NaN</td>\n",
       "    </tr>\n",
       "  </tbody>\n",
       "</table>\n",
       "<p>5 rows × 24 columns</p>\n",
       "</div>"
      ],
      "text/plain": [
       "  Case Number         Date    Year        Type    Country             Area  \\\n",
       "0  2018.06.25  25-Jun-2018  2018.0     Boating        USA       California   \n",
       "1  2018.06.18  18-Jun-2018  2018.0  Unprovoked        USA          Georgia   \n",
       "2  2018.06.09  09-Jun-2018  2018.0     Invalid        USA           Hawaii   \n",
       "3  2018.06.08  08-Jun-2018  2018.0  Unprovoked  AUSTRALIA  New South Wales   \n",
       "4  2018.06.04  04-Jun-2018  2018.0    Provoked     MEXICO           Colima   \n",
       "\n",
       "                         Location     Activity             Name Sex   ...  \\\n",
       "0     Oceanside, San Diego County     Paddling      Julie Wolfe    F  ...   \n",
       "1  St. Simon Island, Glynn County     Standing  Adyson McNeely     F  ...   \n",
       "2                    Habush, Oahu      Surfing      John Denges    M  ...   \n",
       "3              Arrawarra Headland      Surfing             male    M  ...   \n",
       "4                        La Ticla  Free diving   Gustavo Ramos     M  ...   \n",
       "\n",
       "          Species           Investigator or Source                       pdf  \\\n",
       "0      White shark                R. Collier, GSAF      2018.06.25-Wolfe.pdf   \n",
       "1              NaN  K.McMurray, TrackingSharks.com    2018.06.18-McNeely.pdf   \n",
       "2              NaN  K.McMurray, TrackingSharks.com     2018.06.09-Denges.pdf   \n",
       "3        2 m shark                  B. Myatt, GSAF  2018.06.08-Arrawarra.pdf   \n",
       "4  Tiger shark, 3m                       A .Kipper      2018.06.04-Ramos.pdf   \n",
       "\n",
       "                                        href formula  \\\n",
       "0  http://sharkattackfile.net/spreadsheets/pdf_di...   \n",
       "1  http://sharkattackfile.net/spreadsheets/pdf_di...   \n",
       "2  http://sharkattackfile.net/spreadsheets/pdf_di...   \n",
       "3  http://sharkattackfile.net/spreadsheets/pdf_di...   \n",
       "4  http://sharkattackfile.net/spreadsheets/pdf_di...   \n",
       "\n",
       "                                                href Case Number.1  \\\n",
       "0  http://sharkattackfile.net/spreadsheets/pdf_di...    2018.06.25   \n",
       "1  http://sharkattackfile.net/spreadsheets/pdf_di...    2018.06.18   \n",
       "2  http://sharkattackfile.net/spreadsheets/pdf_di...    2018.06.09   \n",
       "3  http://sharkattackfile.net/spreadsheets/pdf_di...    2018.06.08   \n",
       "4  http://sharkattackfile.net/spreadsheets/pdf_di...    2018.06.04   \n",
       "\n",
       "  Case Number.2 original order Unnamed: 22 Unnamed: 23  \n",
       "0    2018.06.25         6303.0         NaN         NaN  \n",
       "1    2018.06.18         6302.0         NaN         NaN  \n",
       "2    2018.06.09         6301.0         NaN         NaN  \n",
       "3    2018.06.08         6300.0         NaN         NaN  \n",
       "4    2018.06.04         6299.0         NaN         NaN  \n",
       "\n",
       "[5 rows x 24 columns]"
      ]
     },
     "execution_count": 193,
     "metadata": {},
     "output_type": "execute_result"
    }
   ],
   "source": [
    "import pandas as pd\n",
    "import numpy as np\n",
    "import statistics as st\n",
    "import matplotlib.pyplot as plt\n",
    "import re\n",
    "df = pd.read_csv(\"input/attacks.csv\",encoding='ISO-8859-1')\n",
    "df.head()"
   ]
  },
  {
   "cell_type": "markdown",
   "metadata": {},
   "source": [
    "##### Limpio el DF corrigiendo errores para facilitar el análisis de los datos"
   ]
  },
  {
   "cell_type": "code",
   "execution_count": 2,
   "metadata": {},
   "outputs": [
    {
     "name": "stdout",
     "output_type": "stream",
     "text": [
      "(25723, 24)\n"
     ]
    },
    {
     "data": {
      "text/plain": [
       "Index(['Case Number', 'Date', 'Year', 'Type', 'Country', 'Area', 'Location',\n",
       "       'Activity', 'Name', 'Sex ', 'Age', 'Injury', 'Fatal (Y/N)', 'Time',\n",
       "       'Species ', 'Investigator or Source', 'pdf', 'href formula', 'href',\n",
       "       'Case Number.1', 'Case Number.2', 'original order', 'Unnamed: 22',\n",
       "       'Unnamed: 23'],\n",
       "      dtype='object')"
      ]
     },
     "execution_count": 2,
     "metadata": {},
     "output_type": "execute_result"
    }
   ],
   "source": [
    "print(df.shape)\n",
    "df.columns"
   ]
  },
  {
   "cell_type": "markdown",
   "metadata": {},
   "source": [
    "##### Corrijo los nombres de las columnas"
   ]
  },
  {
   "cell_type": "code",
   "execution_count": 3,
   "metadata": {},
   "outputs": [],
   "source": [
    "df_col = df.rename(columns={'Sex ':'Sex','Species ':'Species','Fatal (Y/N)':'Fatal'})"
   ]
  },
  {
   "cell_type": "markdown",
   "metadata": {},
   "source": [
    "######  Analizo los elementos nulos de cada columna"
   ]
  },
  {
   "cell_type": "code",
   "execution_count": 4,
   "metadata": {},
   "outputs": [],
   "source": [
    "null_cols = df_col.isnull().sum()"
   ]
  },
  {
   "cell_type": "markdown",
   "metadata": {},
   "source": [
    "##### Elimino las columnas que no necesito\n",
    "- Elimino las columnas 'Unnamed:22' y 'Unnamed:23' porque sus valores son 'Nan'.\n",
    "- Elimino 'href formula', 'href', 'pdf', 'Investigator or source' y 'original order' porque no considero que su contenido aporte información para mi análisis.\n",
    "- Elimino la columna 'pdf' ya que sus valores son los nombres de los archivos pero no puedo acceder a ellos.\n",
    "- Elimino 'Case Number', 'Case Numer.1' y 'Case Number.2' porque contienen la misma info que podemos encontrar en 'Date'"
   ]
  },
  {
   "cell_type": "code",
   "execution_count": 5,
   "metadata": {},
   "outputs": [
    {
     "data": {
      "text/plain": [
       "(25723, 14)"
      ]
     },
     "execution_count": 5,
     "metadata": {},
     "output_type": "execute_result"
    }
   ],
   "source": [
    "clean1 = df_col.drop(columns=['Case Number','Unnamed: 22', 'Unnamed: 23', 'Investigator or Source','pdf', 'href formula', 'href',\n",
    "       'Case Number.1', 'Case Number.2', 'original order'])\n",
    "clean1.shape"
   ]
  },
  {
   "cell_type": "code",
   "execution_count": 6,
   "metadata": {},
   "outputs": [
    {
     "data": {
      "text/plain": [
       "(25598, 14)"
      ]
     },
     "execution_count": 6,
     "metadata": {},
     "output_type": "execute_result"
    }
   ],
   "source": [
    "clean1['Fatal'] = clean1['Fatal'].str.replace(' N', 'N')\n",
    "#clean1 = clean1[clean1[\"Sex\"].isin(['M', 'F'])]\n",
    "clean1 = clean1[clean1.Year != 0]\n",
    "clean2 = clean1\n",
    "clean2.shape"
   ]
  },
  {
   "cell_type": "code",
   "execution_count": 7,
   "metadata": {},
   "outputs": [],
   "source": [
    "clean2['Date'] = clean1['Date'].str.replace('-', ' ')\n",
    "clean2['Date'] = clean1['Date'].str.replace('\\d+', '')\n",
    "clean2['Date'] = clean1['Date'].str.replace('Reported', '')\n",
    "clean2['Date'] = clean1['Date'].str.replace('Early', '')\n",
    "clean2['Date'] = clean1['Date'].str.replace('Late', '')\n",
    "clean2['Date'] = clean1['Date'].str.replace(' ', '')\n",
    "clean2['Date'] = clean1['Date'].str.replace('Summer, summer, summerof ', '')"
   ]
  },
  {
   "cell_type": "code",
   "execution_count": 12,
   "metadata": {},
   "outputs": [],
   "source": [
    "clean3 = clean2[clean2.Date != \"\"]\n",
    "clean3 = clean3[clean3[\"Date\"].isin(['Jan','Feb','Mar','Apr','May','Jun','Jul','Aug', 'Sep','Oct','Nov','Dec'])]\n",
    "clean3 = clean3.rename(columns={'Date':'Month'})"
   ]
  },
  {
   "cell_type": "code",
   "execution_count": 13,
   "metadata": {},
   "outputs": [
    {
     "data": {
      "text/plain": [
       "N          3994\n",
       "Y          1173\n",
       "UNKNOWN      44\n",
       "M             1\n",
       "2017          1\n",
       "Name: Fatal, dtype: int64"
      ]
     },
     "execution_count": 13,
     "metadata": {},
     "output_type": "execute_result"
    }
   ],
   "source": [
    "clean3['Fatal'].value_counts()"
   ]
  },
  {
   "cell_type": "code",
   "execution_count": 23,
   "metadata": {},
   "outputs": [
    {
     "data": {
      "text/html": [
       "<div>\n",
       "<style scoped>\n",
       "    .dataframe tbody tr th:only-of-type {\n",
       "        vertical-align: middle;\n",
       "    }\n",
       "\n",
       "    .dataframe tbody tr th {\n",
       "        vertical-align: top;\n",
       "    }\n",
       "\n",
       "    .dataframe thead th {\n",
       "        text-align: right;\n",
       "    }\n",
       "</style>\n",
       "<table border=\"1\" class=\"dataframe\">\n",
       "  <thead>\n",
       "    <tr style=\"text-align: right;\">\n",
       "      <th></th>\n",
       "      <th>Month</th>\n",
       "      <th>Year</th>\n",
       "      <th>Type</th>\n",
       "      <th>Country</th>\n",
       "      <th>Area</th>\n",
       "      <th>Location</th>\n",
       "      <th>Activity</th>\n",
       "      <th>Name</th>\n",
       "      <th>Sex</th>\n",
       "      <th>Age</th>\n",
       "      <th>Injury</th>\n",
       "      <th>Fatal</th>\n",
       "      <th>Time</th>\n",
       "      <th>Species</th>\n",
       "    </tr>\n",
       "  </thead>\n",
       "  <tbody>\n",
       "    <tr>\n",
       "      <th>0</th>\n",
       "      <td>Jun</td>\n",
       "      <td>2018.0</td>\n",
       "      <td>Boating</td>\n",
       "      <td>USA</td>\n",
       "      <td>California</td>\n",
       "      <td>Oceanside, San Diego County</td>\n",
       "      <td>Paddling</td>\n",
       "      <td>Julie Wolfe</td>\n",
       "      <td>F</td>\n",
       "      <td>57</td>\n",
       "      <td>No injury to occupant, outrigger canoe and pad...</td>\n",
       "      <td>N</td>\n",
       "      <td>18h00</td>\n",
       "      <td>White shark</td>\n",
       "    </tr>\n",
       "    <tr>\n",
       "      <th>1</th>\n",
       "      <td>Jun</td>\n",
       "      <td>2018.0</td>\n",
       "      <td>Unprovoked</td>\n",
       "      <td>USA</td>\n",
       "      <td>Georgia</td>\n",
       "      <td>St. Simon Island, Glynn County</td>\n",
       "      <td>Standing</td>\n",
       "      <td>Adyson McNeely</td>\n",
       "      <td>F</td>\n",
       "      <td>11</td>\n",
       "      <td>Minor injury to left thigh</td>\n",
       "      <td>N</td>\n",
       "      <td>14h00  -15h00</td>\n",
       "      <td>NaN</td>\n",
       "    </tr>\n",
       "    <tr>\n",
       "      <th>2</th>\n",
       "      <td>Jun</td>\n",
       "      <td>2018.0</td>\n",
       "      <td>Invalid</td>\n",
       "      <td>USA</td>\n",
       "      <td>Hawaii</td>\n",
       "      <td>Habush, Oahu</td>\n",
       "      <td>Surfing</td>\n",
       "      <td>John Denges</td>\n",
       "      <td>M</td>\n",
       "      <td>48</td>\n",
       "      <td>Injury to left lower leg from surfboard skeg</td>\n",
       "      <td>N</td>\n",
       "      <td>07h45</td>\n",
       "      <td>NaN</td>\n",
       "    </tr>\n",
       "    <tr>\n",
       "      <th>3</th>\n",
       "      <td>Jun</td>\n",
       "      <td>2018.0</td>\n",
       "      <td>Unprovoked</td>\n",
       "      <td>AUSTRALIA</td>\n",
       "      <td>New South Wales</td>\n",
       "      <td>Arrawarra Headland</td>\n",
       "      <td>Surfing</td>\n",
       "      <td>male</td>\n",
       "      <td>M</td>\n",
       "      <td>NaN</td>\n",
       "      <td>Minor injury to lower leg</td>\n",
       "      <td>N</td>\n",
       "      <td>NaN</td>\n",
       "      <td>2 m shark</td>\n",
       "    </tr>\n",
       "    <tr>\n",
       "      <th>4</th>\n",
       "      <td>Jun</td>\n",
       "      <td>2018.0</td>\n",
       "      <td>Provoked</td>\n",
       "      <td>MEXICO</td>\n",
       "      <td>Colima</td>\n",
       "      <td>La Ticla</td>\n",
       "      <td>Free diving</td>\n",
       "      <td>Gustavo Ramos</td>\n",
       "      <td>M</td>\n",
       "      <td>NaN</td>\n",
       "      <td>Lacerations to leg &amp; hand shark PROVOKED INCIDENT</td>\n",
       "      <td>N</td>\n",
       "      <td>NaN</td>\n",
       "      <td>Tiger shark, 3m</td>\n",
       "    </tr>\n",
       "  </tbody>\n",
       "</table>\n",
       "</div>"
      ],
      "text/plain": [
       "  Month    Year        Type    Country             Area  \\\n",
       "0   Jun  2018.0     Boating        USA       California   \n",
       "1   Jun  2018.0  Unprovoked        USA          Georgia   \n",
       "2   Jun  2018.0     Invalid        USA           Hawaii   \n",
       "3   Jun  2018.0  Unprovoked  AUSTRALIA  New South Wales   \n",
       "4   Jun  2018.0    Provoked     MEXICO           Colima   \n",
       "\n",
       "                         Location     Activity             Name Sex  Age  \\\n",
       "0     Oceanside, San Diego County     Paddling      Julie Wolfe   F   57   \n",
       "1  St. Simon Island, Glynn County     Standing  Adyson McNeely    F   11   \n",
       "2                    Habush, Oahu      Surfing      John Denges   M   48   \n",
       "3              Arrawarra Headland      Surfing             male   M  NaN   \n",
       "4                        La Ticla  Free diving   Gustavo Ramos    M  NaN   \n",
       "\n",
       "                                              Injury Fatal           Time  \\\n",
       "0  No injury to occupant, outrigger canoe and pad...     N          18h00   \n",
       "1                         Minor injury to left thigh     N  14h00  -15h00   \n",
       "2       Injury to left lower leg from surfboard skeg     N          07h45   \n",
       "3                          Minor injury to lower leg     N            NaN   \n",
       "4  Lacerations to leg & hand shark PROVOKED INCIDENT     N            NaN   \n",
       "\n",
       "           Species  \n",
       "0      White shark  \n",
       "1              NaN  \n",
       "2              NaN  \n",
       "3        2 m shark  \n",
       "4  Tiger shark, 3m  "
      ]
     },
     "metadata": {},
     "output_type": "display_data"
    }
   ],
   "source": [
    "clean4 = clean3[clean3.Fatal != \"UNKNOWN\"]\n",
    "clean4 = clean4[clean4.Fatal != \"2017\"]\n",
    "clean4 = clean4[clean4.Fatal != \"M\"]\n",
    "display(clean4.head())"
   ]
  },
  {
   "cell_type": "code",
   "execution_count": 15,
   "metadata": {},
   "outputs": [
    {
     "data": {
      "text/plain": [
       "USA                         2103\n",
       "AUSTRALIA                   1245\n",
       "SOUTH AFRICA                 543\n",
       "NEW ZEALAND                  115\n",
       "BRAZIL                       109\n",
       "                            ... \n",
       "DIEGO GARCIA                   1\n",
       "NEVIS                          1\n",
       "PERU                           1\n",
       "SUDAN?                         1\n",
       "NORTHERN MARIANA ISLANDS       1\n",
       "Name: Country, Length: 184, dtype: int64"
      ]
     },
     "execution_count": 15,
     "metadata": {},
     "output_type": "execute_result"
    }
   ],
   "source": [
    "clean4['Country'].value_counts()"
   ]
  },
  {
   "cell_type": "code",
   "execution_count": 20,
   "metadata": {},
   "outputs": [
    {
     "data": {
      "text/plain": [
       "Surfing                                     946\n",
       "Swimming                                    805\n",
       "Fishing                                     392\n",
       "Spearfishing                                298\n",
       "Bathing                                     144\n",
       "                                           ... \n",
       "Free diving with a pod of dolphins            1\n",
       "Casting a net                                 1\n",
       "Paddle Skiing                                 1\n",
       "Conch diver                                   1\n",
       "Went over side of boat at trochus ground      1\n",
       "Name: Activity, Length: 1360, dtype: int64"
      ]
     },
     "execution_count": 20,
     "metadata": {},
     "output_type": "execute_result"
    }
   ],
   "source": [
    "clean4['Activity'].value_counts()"
   ]
  },
  {
   "cell_type": "markdown",
   "metadata": {},
   "source": [
    "##### DF limpio\n",
    "Elimino columnas que no voy a necesitar para el análisis y me quedo con un nuevo DF limpio\n",
    "Para el análisis se van a comparar los tres paises con mayor número de registros de ataques (USA, AUSTRALIA y SOUTH AFRICA) y se van a eliminar columnas que no aportan información relevante como los datos relacionados con el usuario."
   ]
  },
  {
   "cell_type": "code",
   "execution_count": 69,
   "metadata": {},
   "outputs": [],
   "source": [
    "df_clean = clean4.drop(columns=['Name','Age','Time','Type','Sex','Species'])\n",
    "df_clean = df_clean[(df_clean.Country=='USA') | (df_clean.Country=='AUSTRALIA') | (df_clean.Country=='SOUTH AFRICA')]"
   ]
  },
  {
   "cell_type": "code",
   "execution_count": 70,
   "metadata": {},
   "outputs": [],
   "source": [
    "df_clean['Area']=df_clean['Area'].replace(np.nan,'')\n",
    "df_clean['Location']=df_clean['Location'].replace(np.nan,'')\n",
    "df_clean['Activity']=df_clean['Activity'].replace(np.nan,'')\n",
    "df_clean['Injury']=df_clean['Injury'].replace(np.nan,'')\n",
    "df_clean['Fatal']=df_clean['Fatal'].replace(np.nan,'')"
   ]
  },
  {
   "cell_type": "code",
   "execution_count": 71,
   "metadata": {},
   "outputs": [],
   "source": [
    "df_clean.drop(df_clean[df_clean.Year.isnull()].index, inplace=True)"
   ]
  },
  {
   "cell_type": "code",
   "execution_count": 72,
   "metadata": {},
   "outputs": [
    {
     "data": {
      "text/html": [
       "<div>\n",
       "<style scoped>\n",
       "    .dataframe tbody tr th:only-of-type {\n",
       "        vertical-align: middle;\n",
       "    }\n",
       "\n",
       "    .dataframe tbody tr th {\n",
       "        vertical-align: top;\n",
       "    }\n",
       "\n",
       "    .dataframe thead th {\n",
       "        text-align: right;\n",
       "    }\n",
       "</style>\n",
       "<table border=\"1\" class=\"dataframe\">\n",
       "  <thead>\n",
       "    <tr style=\"text-align: right;\">\n",
       "      <th></th>\n",
       "      <th>Month</th>\n",
       "      <th>Year</th>\n",
       "      <th>Country</th>\n",
       "      <th>Area</th>\n",
       "      <th>Location</th>\n",
       "      <th>Activity</th>\n",
       "      <th>Injury</th>\n",
       "      <th>Fatal</th>\n",
       "    </tr>\n",
       "  </thead>\n",
       "  <tbody>\n",
       "    <tr>\n",
       "      <th>0</th>\n",
       "      <td>Jun</td>\n",
       "      <td>2018.0</td>\n",
       "      <td>USA</td>\n",
       "      <td>California</td>\n",
       "      <td>Oceanside, San Diego County</td>\n",
       "      <td>Paddling</td>\n",
       "      <td>No injury to occupant, outrigger canoe and pad...</td>\n",
       "      <td>N</td>\n",
       "    </tr>\n",
       "    <tr>\n",
       "      <th>1</th>\n",
       "      <td>Jun</td>\n",
       "      <td>2018.0</td>\n",
       "      <td>USA</td>\n",
       "      <td>Georgia</td>\n",
       "      <td>St. Simon Island, Glynn County</td>\n",
       "      <td>Standing</td>\n",
       "      <td>Minor injury to left thigh</td>\n",
       "      <td>N</td>\n",
       "    </tr>\n",
       "    <tr>\n",
       "      <th>2</th>\n",
       "      <td>Jun</td>\n",
       "      <td>2018.0</td>\n",
       "      <td>USA</td>\n",
       "      <td>Hawaii</td>\n",
       "      <td>Habush, Oahu</td>\n",
       "      <td>Surfing</td>\n",
       "      <td>Injury to left lower leg from surfboard skeg</td>\n",
       "      <td>N</td>\n",
       "    </tr>\n",
       "    <tr>\n",
       "      <th>3</th>\n",
       "      <td>Jun</td>\n",
       "      <td>2018.0</td>\n",
       "      <td>AUSTRALIA</td>\n",
       "      <td>New South Wales</td>\n",
       "      <td>Arrawarra Headland</td>\n",
       "      <td>Surfing</td>\n",
       "      <td>Minor injury to lower leg</td>\n",
       "      <td>N</td>\n",
       "    </tr>\n",
       "    <tr>\n",
       "      <th>5</th>\n",
       "      <td>Jun</td>\n",
       "      <td>2018.0</td>\n",
       "      <td>AUSTRALIA</td>\n",
       "      <td>New South Wales</td>\n",
       "      <td>Flat Rock, Ballina</td>\n",
       "      <td>Kite surfing</td>\n",
       "      <td>No injury, board bitten</td>\n",
       "      <td>N</td>\n",
       "    </tr>\n",
       "  </tbody>\n",
       "</table>\n",
       "</div>"
      ],
      "text/plain": [
       "  Month    Year    Country             Area                        Location  \\\n",
       "0   Jun  2018.0        USA       California     Oceanside, San Diego County   \n",
       "1   Jun  2018.0        USA          Georgia  St. Simon Island, Glynn County   \n",
       "2   Jun  2018.0        USA           Hawaii                    Habush, Oahu   \n",
       "3   Jun  2018.0  AUSTRALIA  New South Wales              Arrawarra Headland   \n",
       "5   Jun  2018.0  AUSTRALIA  New South Wales              Flat Rock, Ballina   \n",
       "\n",
       "       Activity                                             Injury Fatal  \n",
       "0      Paddling  No injury to occupant, outrigger canoe and pad...     N  \n",
       "1      Standing                         Minor injury to left thigh     N  \n",
       "2       Surfing       Injury to left lower leg from surfboard skeg     N  \n",
       "3       Surfing                          Minor injury to lower leg     N  \n",
       "5  Kite surfing                            No injury, board bitten     N  "
      ]
     },
     "metadata": {},
     "output_type": "display_data"
    }
   ],
   "source": [
    "display(df_clean.head())"
   ]
  },
  {
   "cell_type": "markdown",
   "metadata": {},
   "source": [
    "##### Análisis estadístico de los años de los ataques registrados"
   ]
  },
  {
   "cell_type": "code",
   "execution_count": 76,
   "metadata": {},
   "outputs": [
    {
     "data": {
      "text/plain": [
       "count    3890.000000\n",
       "mean     1975.597429\n",
       "std        40.243651\n",
       "min      1751.000000\n",
       "25%      1956.000000\n",
       "50%      1989.000000\n",
       "75%      2007.000000\n",
       "max      2018.000000\n",
       "Name: Year, dtype: float64"
      ]
     },
     "execution_count": 76,
     "metadata": {},
     "output_type": "execute_result"
    }
   ],
   "source": [
    "df_clean[\"Year\"].describe()"
   ]
  },
  {
   "cell_type": "markdown",
   "metadata": {},
   "source": [
    "###### Para el análisis nos quedamos con los datos desde 1960, aproximadamente el percentil 25, ya que en los 200 años anteriores no hay casi registros"
   ]
  },
  {
   "cell_type": "code",
   "execution_count": 80,
   "metadata": {},
   "outputs": [],
   "source": [
    "df_clean_year = df_clean.drop(df_clean[df_clean['Year']<1960].index)"
   ]
  },
  {
   "cell_type": "code",
   "execution_count": 81,
   "metadata": {},
   "outputs": [
    {
     "data": {
      "text/plain": [
       "count    2818.000000\n",
       "mean     1996.183818\n",
       "std        17.151011\n",
       "min      1960.000000\n",
       "25%      1984.000000\n",
       "50%      2001.000000\n",
       "75%      2011.000000\n",
       "max      2018.000000\n",
       "Name: Year, dtype: float64"
      ]
     },
     "execution_count": 81,
     "metadata": {},
     "output_type": "execute_result"
    }
   ],
   "source": [
    "df_clean_year[\"Year\"].describe()"
   ]
  },
  {
   "cell_type": "code",
   "execution_count": 88,
   "metadata": {},
   "outputs": [],
   "source": [
    "bins = list(range(1959,2029,10))\n",
    "labels = list(range(1960,2020,10))\n",
    "df_clean_year[\"Decade\"] = pd.cut(df_clean_year.Year,bins=bins,labels=labels)"
   ]
  },
  {
   "cell_type": "code",
   "execution_count": 91,
   "metadata": {},
   "outputs": [
    {
     "data": {
      "text/html": [
       "<div>\n",
       "<style scoped>\n",
       "    .dataframe tbody tr th:only-of-type {\n",
       "        vertical-align: middle;\n",
       "    }\n",
       "\n",
       "    .dataframe tbody tr th {\n",
       "        vertical-align: top;\n",
       "    }\n",
       "\n",
       "    .dataframe thead th {\n",
       "        text-align: right;\n",
       "    }\n",
       "</style>\n",
       "<table border=\"1\" class=\"dataframe\">\n",
       "  <thead>\n",
       "    <tr style=\"text-align: right;\">\n",
       "      <th></th>\n",
       "      <th>Month</th>\n",
       "      <th>Year</th>\n",
       "      <th>Decade</th>\n",
       "      <th>Country</th>\n",
       "      <th>Area</th>\n",
       "      <th>Location</th>\n",
       "      <th>Activity</th>\n",
       "      <th>Injury</th>\n",
       "      <th>Fatal</th>\n",
       "    </tr>\n",
       "  </thead>\n",
       "  <tbody>\n",
       "    <tr>\n",
       "      <th>0</th>\n",
       "      <td>Jun</td>\n",
       "      <td>2018.0</td>\n",
       "      <td>2010</td>\n",
       "      <td>USA</td>\n",
       "      <td>California</td>\n",
       "      <td>Oceanside, San Diego County</td>\n",
       "      <td>Paddling</td>\n",
       "      <td>No injury to occupant, outrigger canoe and pad...</td>\n",
       "      <td>N</td>\n",
       "    </tr>\n",
       "    <tr>\n",
       "      <th>1</th>\n",
       "      <td>Jun</td>\n",
       "      <td>2018.0</td>\n",
       "      <td>2010</td>\n",
       "      <td>USA</td>\n",
       "      <td>Georgia</td>\n",
       "      <td>St. Simon Island, Glynn County</td>\n",
       "      <td>Standing</td>\n",
       "      <td>Minor injury to left thigh</td>\n",
       "      <td>N</td>\n",
       "    </tr>\n",
       "    <tr>\n",
       "      <th>2</th>\n",
       "      <td>Jun</td>\n",
       "      <td>2018.0</td>\n",
       "      <td>2010</td>\n",
       "      <td>USA</td>\n",
       "      <td>Hawaii</td>\n",
       "      <td>Habush, Oahu</td>\n",
       "      <td>Surfing</td>\n",
       "      <td>Injury to left lower leg from surfboard skeg</td>\n",
       "      <td>N</td>\n",
       "    </tr>\n",
       "    <tr>\n",
       "      <th>3</th>\n",
       "      <td>Jun</td>\n",
       "      <td>2018.0</td>\n",
       "      <td>2010</td>\n",
       "      <td>AUSTRALIA</td>\n",
       "      <td>New South Wales</td>\n",
       "      <td>Arrawarra Headland</td>\n",
       "      <td>Surfing</td>\n",
       "      <td>Minor injury to lower leg</td>\n",
       "      <td>N</td>\n",
       "    </tr>\n",
       "    <tr>\n",
       "      <th>5</th>\n",
       "      <td>Jun</td>\n",
       "      <td>2018.0</td>\n",
       "      <td>2010</td>\n",
       "      <td>AUSTRALIA</td>\n",
       "      <td>New South Wales</td>\n",
       "      <td>Flat Rock, Ballina</td>\n",
       "      <td>Kite surfing</td>\n",
       "      <td>No injury, board bitten</td>\n",
       "      <td>N</td>\n",
       "    </tr>\n",
       "  </tbody>\n",
       "</table>\n",
       "</div>"
      ],
      "text/plain": [
       "  Month    Year Decade    Country             Area  \\\n",
       "0   Jun  2018.0   2010        USA       California   \n",
       "1   Jun  2018.0   2010        USA          Georgia   \n",
       "2   Jun  2018.0   2010        USA           Hawaii   \n",
       "3   Jun  2018.0   2010  AUSTRALIA  New South Wales   \n",
       "5   Jun  2018.0   2010  AUSTRALIA  New South Wales   \n",
       "\n",
       "                         Location      Activity  \\\n",
       "0     Oceanside, San Diego County      Paddling   \n",
       "1  St. Simon Island, Glynn County      Standing   \n",
       "2                    Habush, Oahu       Surfing   \n",
       "3              Arrawarra Headland       Surfing   \n",
       "5              Flat Rock, Ballina  Kite surfing   \n",
       "\n",
       "                                              Injury Fatal  \n",
       "0  No injury to occupant, outrigger canoe and pad...     N  \n",
       "1                         Minor injury to left thigh     N  \n",
       "2       Injury to left lower leg from surfboard skeg     N  \n",
       "3                          Minor injury to lower leg     N  \n",
       "5                            No injury, board bitten     N  "
      ]
     },
     "metadata": {},
     "output_type": "display_data"
    }
   ],
   "source": [
    "shark=df_clean_year[['Month','Year','Decade','Country','Area','Location','Activity','Injury','Fatal']]\n",
    "display(shark.head())"
   ]
  },
  {
   "cell_type": "code",
   "execution_count": 93,
   "metadata": {},
   "outputs": [],
   "source": [
    "shark.to_csv(\"output/sharks.csv\")"
   ]
  },
  {
   "cell_type": "code",
   "execution_count": 179,
   "metadata": {},
   "outputs": [
    {
     "data": {
      "text/plain": [
       "Surfing                                          826\n",
       "Swimming                                         328\n",
       "                                                 157\n",
       "Spearfishing                                     141\n",
       "Fishing                                          134\n",
       "                                                ... \n",
       "Touching sharks                                    1\n",
       "Attempting to lasso a shark                        1\n",
       "Spearfishing, but standing in knee-deep water      1\n",
       "Floating in inner tube                             1\n",
       "Washing sand off a speared fish                    1\n",
       "Name: Activity, Length: 542, dtype: int64"
      ]
     },
     "execution_count": 179,
     "metadata": {},
     "output_type": "execute_result"
    }
   ],
   "source": [
    "shark['Activity'].value_counts()"
   ]
  },
  {
   "cell_type": "code",
   "execution_count": null,
   "metadata": {},
   "outputs": [],
   "source": []
  },
  {
   "cell_type": "markdown",
   "metadata": {},
   "source": [
    "##### Importo un archivo con los datos demográficos de Australia (AUS), USA (USA) y South Africa (SAF)"
   ]
  },
  {
   "cell_type": "code",
   "execution_count": 108,
   "metadata": {},
   "outputs": [
    {
     "data": {
      "text/html": [
       "<div>\n",
       "<style scoped>\n",
       "    .dataframe tbody tr th:only-of-type {\n",
       "        vertical-align: middle;\n",
       "    }\n",
       "\n",
       "    .dataframe tbody tr th {\n",
       "        vertical-align: top;\n",
       "    }\n",
       "\n",
       "    .dataframe thead th {\n",
       "        text-align: right;\n",
       "    }\n",
       "</style>\n",
       "<table border=\"1\" class=\"dataframe\">\n",
       "  <thead>\n",
       "    <tr style=\"text-align: right;\">\n",
       "      <th></th>\n",
       "      <th>Fecha</th>\n",
       "      <th>Densidad AUS</th>\n",
       "      <th>Hombres AUS</th>\n",
       "      <th>Mujeres AUS</th>\n",
       "      <th>Poblacion AUS</th>\n",
       "      <th>Densidad USA</th>\n",
       "      <th>Hombres USA</th>\n",
       "      <th>Mujeres USA</th>\n",
       "      <th>Poblacion USA</th>\n",
       "      <th>Densidad SAF</th>\n",
       "      <th>Hombres SAF</th>\n",
       "      <th>Mujeres SAF</th>\n",
       "      <th>Poblacion SAF</th>\n",
       "    </tr>\n",
       "  </thead>\n",
       "  <tbody>\n",
       "    <tr>\n",
       "      <th>0</th>\n",
       "      <td>2018</td>\n",
       "      <td>3.0</td>\n",
       "      <td>12441473</td>\n",
       "      <td>12541215</td>\n",
       "      <td>25169000</td>\n",
       "      <td>33</td>\n",
       "      <td>161644928</td>\n",
       "      <td>165042573</td>\n",
       "      <td>327352000</td>\n",
       "      <td>48</td>\n",
       "      <td>28488734</td>\n",
       "      <td>29290888</td>\n",
       "      <td>57939000</td>\n",
       "    </tr>\n",
       "    <tr>\n",
       "      <th>1</th>\n",
       "      <td>2017</td>\n",
       "      <td>3.0</td>\n",
       "      <td>12252228</td>\n",
       "      <td>12349632</td>\n",
       "      <td>24775000</td>\n",
       "      <td>33</td>\n",
       "      <td>160791853</td>\n",
       "      <td>164193686</td>\n",
       "      <td>325326000</td>\n",
       "      <td>47</td>\n",
       "      <td>28116850</td>\n",
       "      <td>28883601</td>\n",
       "      <td>57098000</td>\n",
       "    </tr>\n",
       "    <tr>\n",
       "      <th>2</th>\n",
       "      <td>2016</td>\n",
       "      <td>3.0</td>\n",
       "      <td>12049619</td>\n",
       "      <td>12141288</td>\n",
       "      <td>24390000</td>\n",
       "      <td>33</td>\n",
       "      <td>159761286</td>\n",
       "      <td>163180025</td>\n",
       "      <td>323127513</td>\n",
       "      <td>46</td>\n",
       "      <td>27733742</td>\n",
       "      <td>28469912</td>\n",
       "      <td>56252000</td>\n",
       "    </tr>\n",
       "    <tr>\n",
       "      <th>3</th>\n",
       "      <td>2015</td>\n",
       "      <td>3.0</td>\n",
       "      <td>11867302</td>\n",
       "      <td>11948693</td>\n",
       "      <td>23985000</td>\n",
       "      <td>33</td>\n",
       "      <td>158591855</td>\n",
       "      <td>162043308</td>\n",
       "      <td>320896618</td>\n",
       "      <td>45</td>\n",
       "      <td>27337003</td>\n",
       "      <td>28049364</td>\n",
       "      <td>55407000</td>\n",
       "    </tr>\n",
       "    <tr>\n",
       "      <th>4</th>\n",
       "      <td>2014</td>\n",
       "      <td>3.0</td>\n",
       "      <td>11705167</td>\n",
       "      <td>11770519</td>\n",
       "      <td>23640000</td>\n",
       "      <td>32</td>\n",
       "      <td>157397705</td>\n",
       "      <td>160903303</td>\n",
       "      <td>318563456</td>\n",
       "      <td>45</td>\n",
       "      <td>26924942</td>\n",
       "      <td>27621049</td>\n",
       "      <td>54574000</td>\n",
       "    </tr>\n",
       "  </tbody>\n",
       "</table>\n",
       "</div>"
      ],
      "text/plain": [
       "   Fecha  Densidad AUS  Hombres AUS  Mujeres AUS  Poblacion AUS  Densidad USA  \\\n",
       "0   2018           3.0     12441473     12541215       25169000            33   \n",
       "1   2017           3.0     12252228     12349632       24775000            33   \n",
       "2   2016           3.0     12049619     12141288       24390000            33   \n",
       "3   2015           3.0     11867302     11948693       23985000            33   \n",
       "4   2014           3.0     11705167     11770519       23640000            32   \n",
       "\n",
       "   Hombres USA  Mujeres USA  Poblacion USA  Densidad SAF  Hombres SAF  \\\n",
       "0    161644928    165042573      327352000            48     28488734   \n",
       "1    160791853    164193686      325326000            47     28116850   \n",
       "2    159761286    163180025      323127513            46     27733742   \n",
       "3    158591855    162043308      320896618            45     27337003   \n",
       "4    157397705    160903303      318563456            45     26924942   \n",
       "\n",
       "   Mujeres SAF  Poblacion SAF  \n",
       "0     29290888       57939000  \n",
       "1     28883601       57098000  \n",
       "2     28469912       56252000  \n",
       "3     28049364       55407000  \n",
       "4     27621049       54574000  "
      ]
     },
     "metadata": {},
     "output_type": "display_data"
    }
   ],
   "source": [
    "poblacion = pd.read_excel(\"input/Poblacion.xlsx\")\n",
    "display(poblacion.head())"
   ]
  },
  {
   "cell_type": "code",
   "execution_count": 125,
   "metadata": {},
   "outputs": [
    {
     "name": "stdout",
     "output_type": "stream",
     "text": [
      "Crecimiento población AUS de 1960 a 2018: 1.45\n",
      "Crecimiento población USA de 1960 a 2018: 0.82\n",
      "Crecimiento población SAF de 1960 a 2018: 2.39\n"
     ]
    }
   ],
   "source": [
    "crecAUS=round(max(poblacion['Poblacion AUS'])/min(poblacion['Poblacion AUS'])-1,2)\n",
    "crecUSA=round(max(poblacion['Poblacion USA'])/min(poblacion['Poblacion USA'])-1,2)\n",
    "crecSAF=round(max(poblacion['Poblacion SAF'])/min(poblacion['Poblacion SAF'])-1,2)\n",
    "\n",
    "print(\"Crecimiento población AUS de 1960 a 2018:\", crecAUS)\n",
    "print(\"Crecimiento población USA de 1960 a 2018:\", crecUSA)\n",
    "print(\"Crecimiento población SAF de 1960 a 2018:\", crecSAF)\n"
   ]
  },
  {
   "cell_type": "code",
   "execution_count": 155,
   "metadata": {},
   "outputs": [],
   "source": [
    "# Población media\n",
    "pobAUS=int(st.mean(poblacion['Poblacion AUS']))\n",
    "pobUSA=int(st.mean(poblacion['Poblacion USA']))\n",
    "pobSAF=int(st.mean(poblacion['Poblacion SAF']))"
   ]
  },
  {
   "cell_type": "code",
   "execution_count": 167,
   "metadata": {},
   "outputs": [],
   "source": [
    "# Nº Ataques\n",
    "ataquesUSA=shark[shark['Country']=='USA'].value_counts().sum()\n",
    "ataquesAUS=shark[shark['Country']=='AUSTRALIA'].value_counts().sum()\n",
    "ataquesSAF=shark[shark['Country']=='SOUTH AFRICA'].value_counts().sum()"
   ]
  },
  {
   "cell_type": "code",
   "execution_count": 169,
   "metadata": {},
   "outputs": [],
   "source": [
    "# Resultados de los ataques\n",
    "fatalUSA=(shark[(shark['Country']=='USA')&(shark['Fatal']=='N')].value_counts().sum())\n",
    "fatalAUS=(shark[(shark['Country']=='AUSTRALIA')&(shark['Fatal']=='N')].value_counts().sum())\n",
    "fatalSAF=(shark[(shark['Country']=='SOUTH AFRICA')&(shark['Fatal']=='N')].value_counts().sum())\n",
    "\n",
    "nofatalUSA=(shark[(shark['Country']=='USA')&(shark['Fatal']=='Y')].value_counts().sum())\n",
    "nofatalAUS=(shark[(shark['Country']=='AUSTRALIA')&(shark['Fatal']=='Y')].value_counts().sum())\n",
    "nofatalSAF=(shark[(shark['Country']=='SOUTH AFRICA')&(shark['Fatal']=='Y')].value_counts().sum())\n",
    "\n",
    "unkUSA=(shark[(shark['Country']=='USA')&(shark['Fatal']=='')].value_counts().sum())\n",
    "unkAUS=(shark[(shark['Country']=='AUSTRALIA')&(shark['Fatal']=='')].value_counts().sum())\n",
    "unkSAF=(shark[(shark['Country']=='SOUTH AFRICA')&(shark['Fatal']=='')].value_counts().sum())"
   ]
  },
  {
   "cell_type": "code",
   "execution_count": 177,
   "metadata": {},
   "outputs": [],
   "source": [
    "# Ataques Fishing and Spearfishing\n",
    "atUSA_f=shark[(shark['Country']=='USA')&((shark['Activity']=='Fishing')|(shark['Activity']=='Spearfishing'))].value_counts().sum()\n",
    "atAUS_f=shark[(shark['Country']=='AUSTRALIA')&((shark['Activity']=='Fishing')|(shark['Activity']=='Spearfishing'))].value_counts().sum()\n",
    "atSAF_f=shark[(shark['Country']=='SOUTH AFRICA')&((shark['Activity']=='Fishing')|(shark['Activity']=='Spearfishing'))].value_counts().sum()"
   ]
  },
  {
   "cell_type": "code",
   "execution_count": 190,
   "metadata": {},
   "outputs": [
    {
     "name": "stdout",
     "output_type": "stream",
     "text": [
      "{'USA': {'Poblacion': 252276564, 'Ataques': 1714, '%Fatal': 88.8, '%NO Fatal': 3.5, '%Unknown': 7.7, 'Fishing and Spearfishing': 89, '%Fishing and Spearf.': 5.19}, 'AUSTRALIA': {'Poblacion': 17021652, 'Ataques': 680, '%Fatal': 80.74, '%NO Fatal': 11.18, '%Unknown': 8.09, 'Fishing and Spearfishing': 111, '%Fishing and Spearf.': 16.32}, 'SOUTH AFRICA': {'Poblacion': 36311664, 'Ataques': 424, '%Fatal': 78.3, '%NO Fatal': 11.08, '%Unknown': 10.61, 'Fishing and Spearfishing': 75, '%Fishing and Spearf.': 17.69}}\n"
     ]
    }
   ],
   "source": [
    "analisis={'USA':\n",
    "          {'Poblacion':pobUSA,\n",
    "           'Ataques':ataquesUSA,\n",
    "           '%Fatal':round(fatalUSA/ataquesUSA*100,2),\n",
    "           '%NO Fatal':round(nofatalUSA/ataquesUSA*100,2),\n",
    "           '%Unknown':round(unkUSA/ataquesUSA*100,2),\n",
    "           'Fishing and Spearfishing':atUSA_f,\n",
    "           '%Fishing and Spearf.':round(atUSA_f/ataquesUSA*100,2)\n",
    "          },\n",
    "         'AUSTRALIA':\n",
    "         {'Poblacion':pobAUS,\n",
    "           'Ataques':ataquesAUS,\n",
    "           '%Fatal':round(fatalAUS/ataquesAUS*100,2),\n",
    "           '%NO Fatal':round(nofatalAUS/ataquesAUS*100,2),\n",
    "           '%Unknown':round(unkAUS/ataquesAUS*100,2),\n",
    "            'Fishing and Spearfishing':atAUS_f,\n",
    "           '%Fishing and Spearf.':round(atAUS_f/ataquesAUS*100,2)\n",
    "         },\n",
    "          'SOUTH AFRICA':\n",
    "          {'Poblacion':pobSAF,\n",
    "           'Ataques':ataquesSAF,\n",
    "           '%Fatal':round(fatalSAF/ataquesSAF*100,2),\n",
    "           '%NO Fatal':round(nofatalSAF/ataquesSAF*100,2),\n",
    "           '%Unknown':round(unkSAF/ataquesSAF*100,2),\n",
    "            'Fishing and Spearfishing':atSAF_f,\n",
    "           '%Fishing and Spearf.':round(atSAF_f/ataquesSAF*100,2)\n",
    "          }\n",
    "         }\n",
    "print(analisis)"
   ]
  },
  {
   "cell_type": "code",
   "execution_count": 192,
   "metadata": {},
   "outputs": [
    {
     "data": {
      "text/html": [
       "<div>\n",
       "<style scoped>\n",
       "    .dataframe tbody tr th:only-of-type {\n",
       "        vertical-align: middle;\n",
       "    }\n",
       "\n",
       "    .dataframe tbody tr th {\n",
       "        vertical-align: top;\n",
       "    }\n",
       "\n",
       "    .dataframe thead th {\n",
       "        text-align: right;\n",
       "    }\n",
       "</style>\n",
       "<table border=\"1\" class=\"dataframe\">\n",
       "  <thead>\n",
       "    <tr style=\"text-align: right;\">\n",
       "      <th></th>\n",
       "      <th>Country</th>\n",
       "      <th>Poblacion</th>\n",
       "      <th>Ataques</th>\n",
       "      <th>%Fatal</th>\n",
       "      <th>%NO Fatal</th>\n",
       "      <th>%Unknown</th>\n",
       "      <th>%Fishing and Spearf.</th>\n",
       "    </tr>\n",
       "  </thead>\n",
       "  <tbody>\n",
       "    <tr>\n",
       "      <th>0</th>\n",
       "      <td>USA</td>\n",
       "      <td>252276564</td>\n",
       "      <td>1714</td>\n",
       "      <td>88.80</td>\n",
       "      <td>3.50</td>\n",
       "      <td>7.70</td>\n",
       "      <td>5.19</td>\n",
       "    </tr>\n",
       "    <tr>\n",
       "      <th>1</th>\n",
       "      <td>AUSTRALIA</td>\n",
       "      <td>17021652</td>\n",
       "      <td>680</td>\n",
       "      <td>80.74</td>\n",
       "      <td>11.18</td>\n",
       "      <td>8.09</td>\n",
       "      <td>16.32</td>\n",
       "    </tr>\n",
       "    <tr>\n",
       "      <th>2</th>\n",
       "      <td>SOUTH AFRICA</td>\n",
       "      <td>36311664</td>\n",
       "      <td>424</td>\n",
       "      <td>78.30</td>\n",
       "      <td>11.08</td>\n",
       "      <td>10.61</td>\n",
       "      <td>17.69</td>\n",
       "    </tr>\n",
       "  </tbody>\n",
       "</table>\n",
       "</div>"
      ],
      "text/plain": [
       "        Country  Poblacion  Ataques  %Fatal  %NO Fatal  %Unknown  \\\n",
       "0           USA  252276564     1714   88.80       3.50      7.70   \n",
       "1     AUSTRALIA   17021652      680   80.74      11.18      8.09   \n",
       "2  SOUTH AFRICA   36311664      424   78.30      11.08     10.61   \n",
       "\n",
       "   %Fishing and Spearf.  \n",
       "0                  5.19  \n",
       "1                 16.32  \n",
       "2                 17.69  "
      ]
     },
     "execution_count": 192,
     "metadata": {},
     "output_type": "execute_result"
    }
   ],
   "source": [
    "df_anal = pd.DataFrame([key for key in analisis.keys()],columns=['Country'])\n",
    "df_anal['Poblacion'] = [value['Poblacion'] for value in analisis.values()]\n",
    "df_anal['Ataques'] = [value['Ataques'] for value in analisis.values()]\n",
    "df_anal['%Fatal'] = [value['%Fatal'] for value in analisis.values()]\n",
    "df_anal['%NO Fatal'] = [value['%NO Fatal'] for value in analisis.values()]\n",
    "df_anal['%Unknown'] = [value['%Unknown'] for value in analisis.values()]\n",
    "#df_anal['Fishing and Spearfishing'] = [value['Fishing and Spearfishing'] for value in analisis.values()]\n",
    "df_anal['%Fishing and Spearf.'] = [value['%Fishing and Spearf.'] for value in analisis.values()]\n",
    "df_anal"
   ]
  },
  {
   "cell_type": "code",
   "execution_count": null,
   "metadata": {},
   "outputs": [],
   "source": []
  },
  {
   "cell_type": "code",
   "execution_count": 133,
   "metadata": {},
   "outputs": [
    {
     "data": {
      "text/plain": [
       "<AxesSubplot:xlabel='Year'>"
      ]
     },
     "execution_count": 133,
     "metadata": {},
     "output_type": "execute_result"
    },
    {
     "data": {
      "image/png": "[encoded data removed]",
      "text/plain": [
       "<Figure size 432x288 with 1 Axes>"
      ]
     },
     "metadata": {
      "needs_background": "light"
     },
     "output_type": "display_data"
    }
   ],
   "source": [
    "%matplotlib inline\n",
    "shark[shark[\"Fatal\"]==\"Y\"].groupby([\"Year\"]).count()['Fatal'].plot()"
   ]
  },
  {
   "cell_type": "code",
   "execution_count": null,
   "metadata": {},
   "outputs": [],
   "source": []
  }
 ],
 "metadata": {
  "kernelspec": {
   "display_name": "Python 3",
   "language": "python",
   "name": "python3"
  },
  "language_info": {
   "codemirror_mode": {
    "name": "ipython",
    "version": 3
   },
   "file_extension": ".py",
   "mimetype": "text/x-python",
   "name": "python",
   "nbconvert_exporter": "python",
   "pygments_lexer": "ipython3",
   "version": "3.7.8"
  }
 },
 "nbformat": 4,
 "nbformat_minor": 4
}
